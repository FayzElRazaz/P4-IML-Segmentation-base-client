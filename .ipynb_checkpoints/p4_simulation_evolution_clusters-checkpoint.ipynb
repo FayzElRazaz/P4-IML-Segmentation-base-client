{
 "cells": [
  {
   "cell_type": "markdown",
   "id": "eec34e60",
   "metadata": {},
   "source": [
    "# Projet 4 - Partie 3 - Contrat de maintenance"
   ]
  },
  {
   "cell_type": "markdown",
   "id": "2601f813",
   "metadata": {},
   "source": [
    "### Chargement des librairies"
   ]
  },
  {
   "cell_type": "code",
   "execution_count": 1,
   "id": "da991cbf",
   "metadata": {},
   "outputs": [],
   "source": [
    "import pandas as pd\n",
    "import matplotlib.pyplot as plt\n",
    "import seaborn as sb\n",
    "from datetime import datetime\n",
    "from datetime import timedelta\n",
    "from sklearn.cluster import KMeans\n",
    "from sklearn import metrics\n",
    "from sklearn import preprocessing\n",
    "from sklearn import decomposition\n",
    "from sklearn.metrics.cluster import adjusted_rand_score"
   ]
  },
  {
   "cell_type": "markdown",
   "id": "470197e8",
   "metadata": {},
   "source": [
    "### Chargement des données"
   ]
  },
  {
   "cell_type": "code",
   "execution_count": 2,
   "id": "b9089e41",
   "metadata": {},
   "outputs": [],
   "source": [
    "df = pd.read_csv(\"/home/fayz/Documents/OpenClassrooms/Projet4/prepared_data.csv\")"
   ]
  },
  {
   "cell_type": "markdown",
   "id": "df6876e8",
   "metadata": {},
   "source": [
    "### Préparation des données pour contrat de maintenance"
   ]
  },
  {
   "cell_type": "code",
   "execution_count": 3,
   "id": "75bc43db",
   "metadata": {},
   "outputs": [],
   "source": [
    "df = df.drop_duplicates(subset = 'customer_unique_id', keep = \"last\")"
   ]
  },
  {
   "cell_type": "code",
   "execution_count": 4,
   "id": "e2645710",
   "metadata": {},
   "outputs": [],
   "source": [
    "df = df.dropna()"
   ]
  },
  {
   "cell_type": "code",
   "execution_count": 5,
   "id": "cc567c5e",
   "metadata": {},
   "outputs": [],
   "source": [
    "df = df.reset_index()"
   ]
  },
  {
   "cell_type": "code",
   "execution_count": 6,
   "id": "141df017",
   "metadata": {},
   "outputs": [],
   "source": [
    "df = df.drop([\"index\"], axis = 1)"
   ]
  },
  {
   "cell_type": "code",
   "execution_count": 7,
   "id": "fa247aa9",
   "metadata": {},
   "outputs": [
    {
     "data": {
      "text/plain": [
       "(77229, 19)"
      ]
     },
     "execution_count": 7,
     "metadata": {},
     "output_type": "execute_result"
    }
   ],
   "source": [
    "df.shape"
   ]
  },
  {
   "cell_type": "code",
   "execution_count": 8,
   "id": "de9a83e5",
   "metadata": {
    "scrolled": true
   },
   "outputs": [
    {
     "data": {
      "text/html": [
       "<div>\n",
       "<style scoped>\n",
       "    .dataframe tbody tr th:only-of-type {\n",
       "        vertical-align: middle;\n",
       "    }\n",
       "\n",
       "    .dataframe tbody tr th {\n",
       "        vertical-align: top;\n",
       "    }\n",
       "\n",
       "    .dataframe thead th {\n",
       "        text-align: right;\n",
       "    }\n",
       "</style>\n",
       "<table border=\"1\" class=\"dataframe\">\n",
       "  <thead>\n",
       "    <tr style=\"text-align: right;\">\n",
       "      <th></th>\n",
       "      <th>customer_unique_id</th>\n",
       "      <th>customer_zip_code_prefix</th>\n",
       "      <th>customer_city</th>\n",
       "      <th>customer_state</th>\n",
       "      <th>order_purchase_timestamp</th>\n",
       "      <th>price</th>\n",
       "      <th>freight_value</th>\n",
       "      <th>product_category_name</th>\n",
       "      <th>product_name_lenght</th>\n",
       "      <th>product_description_lenght</th>\n",
       "      <th>product_photos_qty</th>\n",
       "      <th>product_weight_g</th>\n",
       "      <th>product_length_cm</th>\n",
       "      <th>product_height_cm</th>\n",
       "      <th>product_width_cm</th>\n",
       "      <th>review_score</th>\n",
       "      <th>recency</th>\n",
       "      <th>frequency</th>\n",
       "      <th>monetary_value</th>\n",
       "    </tr>\n",
       "  </thead>\n",
       "  <tbody>\n",
       "    <tr>\n",
       "      <th>0</th>\n",
       "      <td>861eff4711a542e4b93843c6dd7febb0</td>\n",
       "      <td>14409</td>\n",
       "      <td>franca</td>\n",
       "      <td>SP</td>\n",
       "      <td>2017-05-16 15:05:35</td>\n",
       "      <td>124.99</td>\n",
       "      <td>21.88</td>\n",
       "      <td>moveis_escritorio</td>\n",
       "      <td>41.0</td>\n",
       "      <td>1141.0</td>\n",
       "      <td>1.0</td>\n",
       "      <td>8683.0</td>\n",
       "      <td>54.0</td>\n",
       "      <td>64.0</td>\n",
       "      <td>31.0</td>\n",
       "      <td>4</td>\n",
       "      <td>475</td>\n",
       "      <td>1</td>\n",
       "      <td>124.99</td>\n",
       "    </tr>\n",
       "    <tr>\n",
       "      <th>1</th>\n",
       "      <td>9eae34bbd3a474ec5d07949ca7de67c0</td>\n",
       "      <td>68030</td>\n",
       "      <td>santarem</td>\n",
       "      <td>PA</td>\n",
       "      <td>2017-11-09 00:50:13</td>\n",
       "      <td>112.99</td>\n",
       "      <td>24.90</td>\n",
       "      <td>moveis_escritorio</td>\n",
       "      <td>41.0</td>\n",
       "      <td>1141.0</td>\n",
       "      <td>1.0</td>\n",
       "      <td>8683.0</td>\n",
       "      <td>54.0</td>\n",
       "      <td>64.0</td>\n",
       "      <td>31.0</td>\n",
       "      <td>1</td>\n",
       "      <td>298</td>\n",
       "      <td>1</td>\n",
       "      <td>225.98</td>\n",
       "    </tr>\n",
       "    <tr>\n",
       "      <th>2</th>\n",
       "      <td>3c799d181c34d51f6d44bbbc563024db</td>\n",
       "      <td>92480</td>\n",
       "      <td>nova santa rita</td>\n",
       "      <td>RS</td>\n",
       "      <td>2017-05-07 20:11:26</td>\n",
       "      <td>124.99</td>\n",
       "      <td>15.62</td>\n",
       "      <td>moveis_escritorio</td>\n",
       "      <td>41.0</td>\n",
       "      <td>1141.0</td>\n",
       "      <td>1.0</td>\n",
       "      <td>8683.0</td>\n",
       "      <td>54.0</td>\n",
       "      <td>64.0</td>\n",
       "      <td>31.0</td>\n",
       "      <td>3</td>\n",
       "      <td>484</td>\n",
       "      <td>1</td>\n",
       "      <td>124.99</td>\n",
       "    </tr>\n",
       "    <tr>\n",
       "      <th>3</th>\n",
       "      <td>23397e992b09769faf5e66f9e171a241</td>\n",
       "      <td>25931</td>\n",
       "      <td>mage</td>\n",
       "      <td>RJ</td>\n",
       "      <td>2018-02-03 19:45:40</td>\n",
       "      <td>106.99</td>\n",
       "      <td>30.59</td>\n",
       "      <td>moveis_escritorio</td>\n",
       "      <td>41.0</td>\n",
       "      <td>1141.0</td>\n",
       "      <td>1.0</td>\n",
       "      <td>8683.0</td>\n",
       "      <td>54.0</td>\n",
       "      <td>64.0</td>\n",
       "      <td>31.0</td>\n",
       "      <td>4</td>\n",
       "      <td>212</td>\n",
       "      <td>1</td>\n",
       "      <td>106.99</td>\n",
       "    </tr>\n",
       "    <tr>\n",
       "      <th>4</th>\n",
       "      <td>567ab47ca4deb92d46dbf54dce07d0a7</td>\n",
       "      <td>88460</td>\n",
       "      <td>angelina</td>\n",
       "      <td>SC</td>\n",
       "      <td>2017-03-23 15:10:17</td>\n",
       "      <td>126.99</td>\n",
       "      <td>15.06</td>\n",
       "      <td>moveis_escritorio</td>\n",
       "      <td>41.0</td>\n",
       "      <td>1141.0</td>\n",
       "      <td>1.0</td>\n",
       "      <td>8683.0</td>\n",
       "      <td>54.0</td>\n",
       "      <td>64.0</td>\n",
       "      <td>31.0</td>\n",
       "      <td>4</td>\n",
       "      <td>529</td>\n",
       "      <td>1</td>\n",
       "      <td>126.99</td>\n",
       "    </tr>\n",
       "  </tbody>\n",
       "</table>\n",
       "</div>"
      ],
      "text/plain": [
       "                 customer_unique_id  customer_zip_code_prefix  \\\n",
       "0  861eff4711a542e4b93843c6dd7febb0                     14409   \n",
       "1  9eae34bbd3a474ec5d07949ca7de67c0                     68030   \n",
       "2  3c799d181c34d51f6d44bbbc563024db                     92480   \n",
       "3  23397e992b09769faf5e66f9e171a241                     25931   \n",
       "4  567ab47ca4deb92d46dbf54dce07d0a7                     88460   \n",
       "\n",
       "     customer_city customer_state order_purchase_timestamp   price  \\\n",
       "0           franca             SP      2017-05-16 15:05:35  124.99   \n",
       "1         santarem             PA      2017-11-09 00:50:13  112.99   \n",
       "2  nova santa rita             RS      2017-05-07 20:11:26  124.99   \n",
       "3             mage             RJ      2018-02-03 19:45:40  106.99   \n",
       "4         angelina             SC      2017-03-23 15:10:17  126.99   \n",
       "\n",
       "   freight_value product_category_name  product_name_lenght  \\\n",
       "0          21.88     moveis_escritorio                 41.0   \n",
       "1          24.90     moveis_escritorio                 41.0   \n",
       "2          15.62     moveis_escritorio                 41.0   \n",
       "3          30.59     moveis_escritorio                 41.0   \n",
       "4          15.06     moveis_escritorio                 41.0   \n",
       "\n",
       "   product_description_lenght  product_photos_qty  product_weight_g  \\\n",
       "0                      1141.0                 1.0            8683.0   \n",
       "1                      1141.0                 1.0            8683.0   \n",
       "2                      1141.0                 1.0            8683.0   \n",
       "3                      1141.0                 1.0            8683.0   \n",
       "4                      1141.0                 1.0            8683.0   \n",
       "\n",
       "   product_length_cm  product_height_cm  product_width_cm  review_score  \\\n",
       "0               54.0               64.0              31.0             4   \n",
       "1               54.0               64.0              31.0             1   \n",
       "2               54.0               64.0              31.0             3   \n",
       "3               54.0               64.0              31.0             4   \n",
       "4               54.0               64.0              31.0             4   \n",
       "\n",
       "   recency  frequency  monetary_value  \n",
       "0      475          1          124.99  \n",
       "1      298          1          225.98  \n",
       "2      484          1          124.99  \n",
       "3      212          1          106.99  \n",
       "4      529          1          126.99  "
      ]
     },
     "execution_count": 8,
     "metadata": {},
     "output_type": "execute_result"
    }
   ],
   "source": [
    "df.head()"
   ]
  },
  {
   "cell_type": "code",
   "execution_count": 9,
   "id": "65bba136",
   "metadata": {},
   "outputs": [],
   "source": [
    "df['date'] = datetime.strptime(df.order_purchase_timestamp[1], \"%Y-%m-%d %H:%M:%S\")"
   ]
  },
  {
   "cell_type": "code",
   "execution_count": 10,
   "id": "5cb49e3a",
   "metadata": {},
   "outputs": [
    {
     "name": "stderr",
     "output_type": "stream",
     "text": [
      "/tmp/ipykernel_4975/134241741.py:2: SettingWithCopyWarning: \n",
      "A value is trying to be set on a copy of a slice from a DataFrame\n",
      "\n",
      "See the caveats in the documentation: https://pandas.pydata.org/pandas-docs/stable/user_guide/indexing.html#returning-a-view-versus-a-copy\n",
      "  df.loc[:,'date'][i] = datetime.strptime(df.loc[:,'order_purchase_timestamp'][i], \"%Y-%m-%d %H:%M:%S\")\n"
     ]
    }
   ],
   "source": [
    "for i in range(len(df)):\n",
    "    df.loc[:,'date'][i] = datetime.strptime(df.loc[:,'order_purchase_timestamp'][i], \"%Y-%m-%d %H:%M:%S\")"
   ]
  },
  {
   "cell_type": "code",
   "execution_count": 11,
   "id": "9f4ca52b",
   "metadata": {
    "scrolled": false
   },
   "outputs": [
    {
     "data": {
      "text/html": [
       "<div>\n",
       "<style scoped>\n",
       "    .dataframe tbody tr th:only-of-type {\n",
       "        vertical-align: middle;\n",
       "    }\n",
       "\n",
       "    .dataframe tbody tr th {\n",
       "        vertical-align: top;\n",
       "    }\n",
       "\n",
       "    .dataframe thead th {\n",
       "        text-align: right;\n",
       "    }\n",
       "</style>\n",
       "<table border=\"1\" class=\"dataframe\">\n",
       "  <thead>\n",
       "    <tr style=\"text-align: right;\">\n",
       "      <th></th>\n",
       "      <th>customer_unique_id</th>\n",
       "      <th>customer_zip_code_prefix</th>\n",
       "      <th>customer_city</th>\n",
       "      <th>customer_state</th>\n",
       "      <th>order_purchase_timestamp</th>\n",
       "      <th>price</th>\n",
       "      <th>freight_value</th>\n",
       "      <th>product_category_name</th>\n",
       "      <th>product_name_lenght</th>\n",
       "      <th>product_description_lenght</th>\n",
       "      <th>product_photos_qty</th>\n",
       "      <th>product_weight_g</th>\n",
       "      <th>product_length_cm</th>\n",
       "      <th>product_height_cm</th>\n",
       "      <th>product_width_cm</th>\n",
       "      <th>review_score</th>\n",
       "      <th>recency</th>\n",
       "      <th>frequency</th>\n",
       "      <th>monetary_value</th>\n",
       "      <th>date</th>\n",
       "    </tr>\n",
       "  </thead>\n",
       "  <tbody>\n",
       "    <tr>\n",
       "      <th>0</th>\n",
       "      <td>861eff4711a542e4b93843c6dd7febb0</td>\n",
       "      <td>14409</td>\n",
       "      <td>franca</td>\n",
       "      <td>SP</td>\n",
       "      <td>2017-05-16 15:05:35</td>\n",
       "      <td>124.99</td>\n",
       "      <td>21.88</td>\n",
       "      <td>moveis_escritorio</td>\n",
       "      <td>41.0</td>\n",
       "      <td>1141.0</td>\n",
       "      <td>1.0</td>\n",
       "      <td>8683.0</td>\n",
       "      <td>54.0</td>\n",
       "      <td>64.0</td>\n",
       "      <td>31.0</td>\n",
       "      <td>4</td>\n",
       "      <td>475</td>\n",
       "      <td>1</td>\n",
       "      <td>124.99</td>\n",
       "      <td>2017-05-16 15:05:35</td>\n",
       "    </tr>\n",
       "    <tr>\n",
       "      <th>1</th>\n",
       "      <td>9eae34bbd3a474ec5d07949ca7de67c0</td>\n",
       "      <td>68030</td>\n",
       "      <td>santarem</td>\n",
       "      <td>PA</td>\n",
       "      <td>2017-11-09 00:50:13</td>\n",
       "      <td>112.99</td>\n",
       "      <td>24.90</td>\n",
       "      <td>moveis_escritorio</td>\n",
       "      <td>41.0</td>\n",
       "      <td>1141.0</td>\n",
       "      <td>1.0</td>\n",
       "      <td>8683.0</td>\n",
       "      <td>54.0</td>\n",
       "      <td>64.0</td>\n",
       "      <td>31.0</td>\n",
       "      <td>1</td>\n",
       "      <td>298</td>\n",
       "      <td>1</td>\n",
       "      <td>225.98</td>\n",
       "      <td>2017-11-09 00:50:13</td>\n",
       "    </tr>\n",
       "    <tr>\n",
       "      <th>2</th>\n",
       "      <td>3c799d181c34d51f6d44bbbc563024db</td>\n",
       "      <td>92480</td>\n",
       "      <td>nova santa rita</td>\n",
       "      <td>RS</td>\n",
       "      <td>2017-05-07 20:11:26</td>\n",
       "      <td>124.99</td>\n",
       "      <td>15.62</td>\n",
       "      <td>moveis_escritorio</td>\n",
       "      <td>41.0</td>\n",
       "      <td>1141.0</td>\n",
       "      <td>1.0</td>\n",
       "      <td>8683.0</td>\n",
       "      <td>54.0</td>\n",
       "      <td>64.0</td>\n",
       "      <td>31.0</td>\n",
       "      <td>3</td>\n",
       "      <td>484</td>\n",
       "      <td>1</td>\n",
       "      <td>124.99</td>\n",
       "      <td>2017-05-07 20:11:26</td>\n",
       "    </tr>\n",
       "    <tr>\n",
       "      <th>3</th>\n",
       "      <td>23397e992b09769faf5e66f9e171a241</td>\n",
       "      <td>25931</td>\n",
       "      <td>mage</td>\n",
       "      <td>RJ</td>\n",
       "      <td>2018-02-03 19:45:40</td>\n",
       "      <td>106.99</td>\n",
       "      <td>30.59</td>\n",
       "      <td>moveis_escritorio</td>\n",
       "      <td>41.0</td>\n",
       "      <td>1141.0</td>\n",
       "      <td>1.0</td>\n",
       "      <td>8683.0</td>\n",
       "      <td>54.0</td>\n",
       "      <td>64.0</td>\n",
       "      <td>31.0</td>\n",
       "      <td>4</td>\n",
       "      <td>212</td>\n",
       "      <td>1</td>\n",
       "      <td>106.99</td>\n",
       "      <td>2018-02-03 19:45:40</td>\n",
       "    </tr>\n",
       "    <tr>\n",
       "      <th>4</th>\n",
       "      <td>567ab47ca4deb92d46dbf54dce07d0a7</td>\n",
       "      <td>88460</td>\n",
       "      <td>angelina</td>\n",
       "      <td>SC</td>\n",
       "      <td>2017-03-23 15:10:17</td>\n",
       "      <td>126.99</td>\n",
       "      <td>15.06</td>\n",
       "      <td>moveis_escritorio</td>\n",
       "      <td>41.0</td>\n",
       "      <td>1141.0</td>\n",
       "      <td>1.0</td>\n",
       "      <td>8683.0</td>\n",
       "      <td>54.0</td>\n",
       "      <td>64.0</td>\n",
       "      <td>31.0</td>\n",
       "      <td>4</td>\n",
       "      <td>529</td>\n",
       "      <td>1</td>\n",
       "      <td>126.99</td>\n",
       "      <td>2017-03-23 15:10:17</td>\n",
       "    </tr>\n",
       "  </tbody>\n",
       "</table>\n",
       "</div>"
      ],
      "text/plain": [
       "                 customer_unique_id  customer_zip_code_prefix  \\\n",
       "0  861eff4711a542e4b93843c6dd7febb0                     14409   \n",
       "1  9eae34bbd3a474ec5d07949ca7de67c0                     68030   \n",
       "2  3c799d181c34d51f6d44bbbc563024db                     92480   \n",
       "3  23397e992b09769faf5e66f9e171a241                     25931   \n",
       "4  567ab47ca4deb92d46dbf54dce07d0a7                     88460   \n",
       "\n",
       "     customer_city customer_state order_purchase_timestamp   price  \\\n",
       "0           franca             SP      2017-05-16 15:05:35  124.99   \n",
       "1         santarem             PA      2017-11-09 00:50:13  112.99   \n",
       "2  nova santa rita             RS      2017-05-07 20:11:26  124.99   \n",
       "3             mage             RJ      2018-02-03 19:45:40  106.99   \n",
       "4         angelina             SC      2017-03-23 15:10:17  126.99   \n",
       "\n",
       "   freight_value product_category_name  product_name_lenght  \\\n",
       "0          21.88     moveis_escritorio                 41.0   \n",
       "1          24.90     moveis_escritorio                 41.0   \n",
       "2          15.62     moveis_escritorio                 41.0   \n",
       "3          30.59     moveis_escritorio                 41.0   \n",
       "4          15.06     moveis_escritorio                 41.0   \n",
       "\n",
       "   product_description_lenght  product_photos_qty  product_weight_g  \\\n",
       "0                      1141.0                 1.0            8683.0   \n",
       "1                      1141.0                 1.0            8683.0   \n",
       "2                      1141.0                 1.0            8683.0   \n",
       "3                      1141.0                 1.0            8683.0   \n",
       "4                      1141.0                 1.0            8683.0   \n",
       "\n",
       "   product_length_cm  product_height_cm  product_width_cm  review_score  \\\n",
       "0               54.0               64.0              31.0             4   \n",
       "1               54.0               64.0              31.0             1   \n",
       "2               54.0               64.0              31.0             3   \n",
       "3               54.0               64.0              31.0             4   \n",
       "4               54.0               64.0              31.0             4   \n",
       "\n",
       "   recency  frequency  monetary_value                date  \n",
       "0      475          1          124.99 2017-05-16 15:05:35  \n",
       "1      298          1          225.98 2017-11-09 00:50:13  \n",
       "2      484          1          124.99 2017-05-07 20:11:26  \n",
       "3      212          1          106.99 2018-02-03 19:45:40  \n",
       "4      529          1          126.99 2017-03-23 15:10:17  "
      ]
     },
     "execution_count": 11,
     "metadata": {},
     "output_type": "execute_result"
    }
   ],
   "source": [
    "df.head()"
   ]
  },
  {
   "cell_type": "markdown",
   "id": "dc0f6c03",
   "metadata": {},
   "source": [
    "### Contrat de maintenance"
   ]
  },
  {
   "cell_type": "code",
   "execution_count": 12,
   "id": "013c2e53",
   "metadata": {},
   "outputs": [],
   "source": [
    "df_keep = df[[\"date\",\"customer_zip_code_prefix\",\"review_score\",\"recency\",\"frequency\",\"monetary_value\"]]"
   ]
  },
  {
   "cell_type": "code",
   "execution_count": 13,
   "id": "f2e518ff",
   "metadata": {},
   "outputs": [
    {
     "data": {
      "text/plain": [
       "Timestamp('2018-09-03 09:06:57')"
      ]
     },
     "execution_count": 13,
     "metadata": {},
     "output_type": "execute_result"
    }
   ],
   "source": [
    "max(df_keep.loc[:,'date'])"
   ]
  },
  {
   "cell_type": "code",
   "execution_count": 14,
   "id": "f8fb0f29",
   "metadata": {},
   "outputs": [],
   "source": [
    "_6mois = 180"
   ]
  },
  {
   "cell_type": "code",
   "execution_count": 15,
   "id": "3767c9b0",
   "metadata": {},
   "outputs": [],
   "source": [
    "d_nmois = max(df_keep.loc[:,'date']) - timedelta(_6mois)"
   ]
  },
  {
   "cell_type": "code",
   "execution_count": 16,
   "id": "a370aab0",
   "metadata": {},
   "outputs": [],
   "source": [
    "df_nmois = df_keep[df_keep['date'] < d_nmois]"
   ]
  },
  {
   "cell_type": "code",
   "execution_count": 17,
   "id": "93d4655b",
   "metadata": {
    "scrolled": true
   },
   "outputs": [
    {
     "data": {
      "text/html": [
       "<div>\n",
       "<style scoped>\n",
       "    .dataframe tbody tr th:only-of-type {\n",
       "        vertical-align: middle;\n",
       "    }\n",
       "\n",
       "    .dataframe tbody tr th {\n",
       "        vertical-align: top;\n",
       "    }\n",
       "\n",
       "    .dataframe thead th {\n",
       "        text-align: right;\n",
       "    }\n",
       "</style>\n",
       "<table border=\"1\" class=\"dataframe\">\n",
       "  <thead>\n",
       "    <tr style=\"text-align: right;\">\n",
       "      <th></th>\n",
       "      <th>date</th>\n",
       "      <th>customer_zip_code_prefix</th>\n",
       "      <th>review_score</th>\n",
       "      <th>recency</th>\n",
       "      <th>frequency</th>\n",
       "      <th>monetary_value</th>\n",
       "    </tr>\n",
       "  </thead>\n",
       "  <tbody>\n",
       "    <tr>\n",
       "      <th>0</th>\n",
       "      <td>2017-05-16 15:05:35</td>\n",
       "      <td>14409</td>\n",
       "      <td>4</td>\n",
       "      <td>475</td>\n",
       "      <td>1</td>\n",
       "      <td>124.99</td>\n",
       "    </tr>\n",
       "    <tr>\n",
       "      <th>1</th>\n",
       "      <td>2017-11-09 00:50:13</td>\n",
       "      <td>68030</td>\n",
       "      <td>1</td>\n",
       "      <td>298</td>\n",
       "      <td>1</td>\n",
       "      <td>225.98</td>\n",
       "    </tr>\n",
       "    <tr>\n",
       "      <th>2</th>\n",
       "      <td>2017-05-07 20:11:26</td>\n",
       "      <td>92480</td>\n",
       "      <td>3</td>\n",
       "      <td>484</td>\n",
       "      <td>1</td>\n",
       "      <td>124.99</td>\n",
       "    </tr>\n",
       "    <tr>\n",
       "      <th>3</th>\n",
       "      <td>2018-02-03 19:45:40</td>\n",
       "      <td>25931</td>\n",
       "      <td>4</td>\n",
       "      <td>212</td>\n",
       "      <td>1</td>\n",
       "      <td>106.99</td>\n",
       "    </tr>\n",
       "    <tr>\n",
       "      <th>4</th>\n",
       "      <td>2017-03-23 15:10:17</td>\n",
       "      <td>88460</td>\n",
       "      <td>4</td>\n",
       "      <td>529</td>\n",
       "      <td>1</td>\n",
       "      <td>126.99</td>\n",
       "    </tr>\n",
       "  </tbody>\n",
       "</table>\n",
       "</div>"
      ],
      "text/plain": [
       "                 date  customer_zip_code_prefix  review_score  recency  \\\n",
       "0 2017-05-16 15:05:35                     14409             4      475   \n",
       "1 2017-11-09 00:50:13                     68030             1      298   \n",
       "2 2017-05-07 20:11:26                     92480             3      484   \n",
       "3 2018-02-03 19:45:40                     25931             4      212   \n",
       "4 2017-03-23 15:10:17                     88460             4      529   \n",
       "\n",
       "   frequency  monetary_value  \n",
       "0          1          124.99  \n",
       "1          1          225.98  \n",
       "2          1          124.99  \n",
       "3          1          106.99  \n",
       "4          1          126.99  "
      ]
     },
     "execution_count": 17,
     "metadata": {},
     "output_type": "execute_result"
    }
   ],
   "source": [
    "df_nmois.head()"
   ]
  },
  {
   "cell_type": "code",
   "execution_count": 18,
   "id": "fed67be7",
   "metadata": {},
   "outputs": [],
   "source": [
    "sortdf = df_nmois.sort_values(by = \"date\")"
   ]
  },
  {
   "cell_type": "code",
   "execution_count": 19,
   "id": "0780a640",
   "metadata": {},
   "outputs": [],
   "source": [
    "df = sortdf.reset_index()"
   ]
  },
  {
   "cell_type": "code",
   "execution_count": 20,
   "id": "78cabac1",
   "metadata": {},
   "outputs": [],
   "source": [
    "df = df.drop([\"index\"], axis = 1)"
   ]
  },
  {
   "cell_type": "markdown",
   "id": "b35548fb",
   "metadata": {},
   "source": [
    "## Entrainement une fois puis suivi de l'ARI"
   ]
  },
  {
   "cell_type": "markdown",
   "id": "9dca7639",
   "metadata": {},
   "source": [
    "### 7 Jours"
   ]
  },
  {
   "cell_type": "code",
   "execution_count": 45,
   "id": "c76cfbd7",
   "metadata": {},
   "outputs": [],
   "source": [
    "tup_ari =[]\n",
    "nb_jour = 7\n",
    "    \n",
    "df = df_keep[(df_keep['date'] < d_nmois)]\n",
    "X = df[[\"customer_zip_code_prefix\",\"review_score\",\"recency\",\"frequency\",\"monetary_value\"]].values\n",
    "std_scale = preprocessing.StandardScaler().fit(X)\n",
    "X_scaled = std_scale.transform(X)\n",
    "kmeans = KMeans(n_clusters = 6, random_state = 0)\n",
    "y_fit = kmeans.fit(X_scaled)\n",
    "for i in range(25):\n",
    "    df_nmois_1sem = df_keep[(df_keep['date'] < (d_nmois + timedelta(nb_jour*(i+1))))]\n",
    "    X = df_nmois_1sem[[\"customer_zip_code_prefix\",\"review_score\",\"recency\",\"frequency\",\"monetary_value\"]].values\n",
    "    X_scaled = std_scale.transform(X)\n",
    "    kmeans2 = KMeans(n_clusters = 6, random_state = 0)\n",
    "    y_fit = kmeans2.fit_predict(X_scaled)\n",
    "    y_predict = kmeans.predict(X_scaled)\n",
    "    tup_ari.append(adjusted_rand_score(y_predict,y_fit))"
   ]
  },
  {
   "cell_type": "code",
   "execution_count": 34,
   "id": "2a692507",
   "metadata": {},
   "outputs": [
    {
     "data": {
      "image/png": "[encoded data removed]",
      "text/plain": [
       "<Figure size 576x576 with 1 Axes>"
      ]
     },
     "metadata": {
      "needs_background": "light"
     },
     "output_type": "display_data"
    }
   ],
   "source": [
    "plt.subplots(figsize = (8,8))\n",
    "plt.title(\"ARI selon la semaine - k = 6\")\n",
    "plt.plot(tup_ari)\n",
    "plt.xlabel('semaine')\n",
    "plt.ylabel('ARI')\n",
    "plt.axhline(y=0.8)\n",
    "plt.show()"
   ]
  },
  {
   "cell_type": "code",
   "execution_count": 35,
   "id": "269c3c25",
   "metadata": {
    "scrolled": true
   },
   "outputs": [
    {
     "data": {
      "text/plain": [
       "[0.9777768944585444,\n",
       " 0.9534103431541775,\n",
       " 0.9251877411764474,\n",
       " 0.9004396295052822,\n",
       " 0.8716479948421954,\n",
       " 0.8532306697630395,\n",
       " 0.8335539797866178,\n",
       " 0.8143722882463144,\n",
       " 0.7926813507687168,\n",
       " 0.7782541581880481,\n",
       " 0.7594925230463322,\n",
       " 0.7519208766846804,\n",
       " 0.7370285018410226,\n",
       " 0.7254052269850685,\n",
       " 0.7142818799501816,\n",
       " 0.702956991711468,\n",
       " 0.6957396834771938,\n",
       " 0.6899605246172871,\n",
       " 0.6777678796186724,\n",
       " 0.6611914078930115,\n",
       " 0.6449631064493929,\n",
       " 0.6390976246874249,\n",
       " 0.61900270782962,\n",
       " 0.606810314480384,\n",
       " 0.5897190415217238]"
      ]
     },
     "execution_count": 35,
     "metadata": {},
     "output_type": "execute_result"
    }
   ],
   "source": [
    "tup_ari =[]\n",
    "nb_jour = 7\n",
    "    \n",
    "df = df_keep[(df_keep['date'] < d_nmois)]\n",
    "X = df[[\"recency\",\"frequency\",\"monetary_value\"]].values\n",
    "std_scale = preprocessing.StandardScaler().fit(X)\n",
    "X_scaled = std_scale.transform(X)\n",
    "kmeans = KMeans(n_clusters = 4, random_state = 0)\n",
    "y_fit = kmeans.fit(X_scaled)\n",
    "for i in range(25):\n",
    "    df_nmois_1sem = df_keep[(df_keep['date'] < (d_nmois + timedelta(nb_jour*(i+1))))]\n",
    "    X = df_nmois_1sem[[\"recency\",\"frequency\",\"monetary_value\"]].values\n",
    "    X_scaled = std_scale.transform(X)\n",
    "    kmeans2 = KMeans(n_clusters = 4, random_state = 0)\n",
    "    y_fit = kmeans2.fit_predict(X_scaled)\n",
    "    y_predict = kmeans.predict(X_scaled)\n",
    "    tup_ari.append(adjusted_rand_score(y_predict,y_fit))\n",
    "#tup_ari"
   ]
  },
  {
   "cell_type": "code",
   "execution_count": 36,
   "id": "045e3362",
   "metadata": {},
   "outputs": [
    {
     "data": {
      "image/png": "[encoded data removed]",
      "text/plain": [
       "<Figure size 576x576 with 1 Axes>"
      ]
     },
     "metadata": {
      "needs_background": "light"
     },
     "output_type": "display_data"
    }
   ],
   "source": [
    "plt.subplots(figsize = (8,8))\n",
    "plt.title(\"ARI selon la semaine - RFM, k = 4\")\n",
    "plt.plot(tup_ari)\n",
    "plt.xlabel('semaine')\n",
    "plt.ylabel('ARI')\n",
    "plt.axhline(y=0.8)\n",
    "plt.show()"
   ]
  },
  {
   "cell_type": "markdown",
   "id": "b314b4bf",
   "metadata": {},
   "source": [
    "### 15 Jours"
   ]
  },
  {
   "cell_type": "code",
   "execution_count": 37,
   "id": "636a66f1",
   "metadata": {},
   "outputs": [],
   "source": [
    "tup_ari =[]\n",
    "nb_jour = 15\n",
    "    \n",
    "df = df_keep[(df_keep['date'] < d_nmois)]\n",
    "X = df[[\"customer_zip_code_prefix\",\"review_score\",\"recency\",\"frequency\",\"monetary_value\"]].values\n",
    "std_scale = preprocessing.StandardScaler().fit(X)\n",
    "X_scaled = std_scale.transform(X)\n",
    "kmeans = KMeans(n_clusters = 6, random_state = 0)\n",
    "y_fit = kmeans.fit(X_scaled)\n",
    "for i in range(12):\n",
    "    df_nmois_1sem = df_keep[(df_keep['date'] < (d_nmois + timedelta(nb_jour*(i+1))))]\n",
    "    X = df_nmois_1sem[[\"customer_zip_code_prefix\",\"review_score\",\"recency\",\"frequency\",\"monetary_value\"]].values\n",
    "    X_scaled = std_scale.transform(X)\n",
    "    kmeans2 = KMeans(n_clusters = 6, random_state = 0)\n",
    "    y_fit = kmeans2.fit_predict(X_scaled)\n",
    "    y_predict = kmeans.predict(X_scaled)\n",
    "    tup_ari.append(adjusted_rand_score(y_predict,y_fit))"
   ]
  },
  {
   "cell_type": "code",
   "execution_count": 38,
   "id": "bd05e11c",
   "metadata": {},
   "outputs": [
    {
     "data": {
      "image/png": "[encoded data removed]",
      "text/plain": [
       "<Figure size 576x576 with 1 Axes>"
      ]
     },
     "metadata": {
      "needs_background": "light"
     },
     "output_type": "display_data"
    }
   ],
   "source": [
    "plt.subplots(figsize = (8,8))\n",
    "plt.title(\"ARI selon la quinzaine\")\n",
    "plt.plot(tup_ari)\n",
    "plt.xlabel('quinzaine')\n",
    "plt.ylabel('ARI')\n",
    "plt.axhline(y=0.8)\n",
    "plt.show()"
   ]
  },
  {
   "cell_type": "code",
   "execution_count": 39,
   "id": "c0d485b2",
   "metadata": {},
   "outputs": [],
   "source": [
    "tup_ari =[]\n",
    "nb_jour = 15\n",
    "    \n",
    "df = df_keep[(df_keep['date'] < d_nmois)]\n",
    "X = df[[\"recency\",\"frequency\",\"monetary_value\"]].values\n",
    "std_scale = preprocessing.StandardScaler().fit(X)\n",
    "X_scaled = std_scale.transform(X)\n",
    "kmeans = KMeans(n_clusters = 4, random_state = 0)\n",
    "y_fit = kmeans.fit(X_scaled)\n",
    "for i in range(12):\n",
    "    df_nmois_1sem = df_keep[(df_keep['date'] < (d_nmois + timedelta(nb_jour*(i+1))))]\n",
    "    X = df_nmois_1sem[[\"recency\",\"frequency\",\"monetary_value\"]].values\n",
    "    X_scaled = std_scale.transform(X)\n",
    "    kmeans2 = KMeans(n_clusters = 4, random_state = 0)\n",
    "    y_fit = kmeans2.fit_predict(X_scaled)\n",
    "    y_predict = kmeans.predict(X_scaled)\n",
    "    tup_ari.append(adjusted_rand_score(y_predict,y_fit))"
   ]
  },
  {
   "cell_type": "code",
   "execution_count": 40,
   "id": "85a1f147",
   "metadata": {},
   "outputs": [
    {
     "data": {
      "image/png": "[encoded data removed]",
      "text/plain": [
       "<Figure size 576x576 with 1 Axes>"
      ]
     },
     "metadata": {
      "needs_background": "light"
     },
     "output_type": "display_data"
    }
   ],
   "source": [
    "plt.subplots(figsize = (8,8))\n",
    "plt.title(\"ARI selon la quinzaine\")\n",
    "plt.plot(tup_ari)\n",
    "plt.xlabel('quinzaine')\n",
    "plt.ylabel('ARI')\n",
    "plt.axhline(y=0.8)\n",
    "plt.show()"
   ]
  },
  {
   "cell_type": "markdown",
   "id": "023a6379",
   "metadata": {},
   "source": [
    "## Ré-entrainement toutes les périodes étudiées"
   ]
  },
  {
   "cell_type": "markdown",
   "id": "66ef69a0",
   "metadata": {},
   "source": [
    "### Tous les 7*4 jours"
   ]
  },
  {
   "cell_type": "code",
   "execution_count": 25,
   "id": "c779d2ec",
   "metadata": {},
   "outputs": [],
   "source": [
    "tup_ari =[]\n",
    "nb_jour = 7*4\n",
    "    \n",
    "\n",
    "for i in range(6):\n",
    "    df = df_keep[(df_keep['date'] < d_nmois + timedelta(nb_jour*i))]\n",
    "    X = df[[\"customer_zip_code_prefix\",\"review_score\",\"recency\",\"frequency\",\"monetary_value\"]].values\n",
    "    std_scale = preprocessing.StandardScaler().fit(X)\n",
    "    \n",
    "    X_scaled = std_scale.transform(X)\n",
    "    kmeans = KMeans(n_clusters = 6, random_state = 0)\n",
    "    y_fit = kmeans.fit(X_scaled)\n",
    "    \n",
    "    df_nmois_1sem = df_keep[(df_keep['date'] < (d_nmois + timedelta(nb_jour*(i+1))))]\n",
    "    X = df_nmois_1sem[[\"customer_zip_code_prefix\",\"review_score\",\"recency\",\"frequency\",\"monetary_value\"]].values\n",
    "    X_scaled = std_scale.transform(X)\n",
    "    \n",
    "    kmeans2 = KMeans(n_clusters = 6, random_state = 0)\n",
    "    y_fit = kmeans2.fit_predict(X_scaled)\n",
    "    y_predict = kmeans.predict(X_scaled)\n",
    "    \n",
    "    tup_ari.append(adjusted_rand_score(y_predict,y_fit))\n",
    "\n",
    "#tup_ari"
   ]
  },
  {
   "cell_type": "code",
   "execution_count": 26,
   "id": "92e49771",
   "metadata": {},
   "outputs": [
    {
     "data": {
      "image/png": "[encoded data removed]",
      "text/plain": [
       "<Figure size 576x576 with 1 Axes>"
      ]
     },
     "metadata": {
      "needs_background": "light"
     },
     "output_type": "display_data"
    }
   ],
   "source": [
    "plt.subplots(figsize = (8,8))\n",
    "plt.title(\"ARI selon la vingt-huitaine - k = 6\")\n",
    "plt.plot(tup_ari)\n",
    "plt.xlabel('vingt-huitaine de jours')\n",
    "plt.ylabel('ARI')\n",
    "plt.axhline(y=0.9)\n",
    "plt.show()"
   ]
  },
  {
   "cell_type": "code",
   "execution_count": 41,
   "id": "5cc9ab4c",
   "metadata": {},
   "outputs": [],
   "source": [
    "tup_ari =[]\n",
    "nb_jour = 7*4\n",
    "    \n",
    "\n",
    "for i in range(6):\n",
    "    df = df_keep[(df_keep['date'] < d_nmois + timedelta(nb_jour*i))]\n",
    "    X = df[[\"recency\",\"frequency\",\"monetary_value\"]].values\n",
    "    std_scale = preprocessing.StandardScaler().fit(X)\n",
    "    \n",
    "    X_scaled = std_scale.transform(X)\n",
    "    kmeans = KMeans(n_clusters = 4, random_state = 0)\n",
    "    y_fit = kmeans.fit(X_scaled)\n",
    "    \n",
    "    df_nmois_1sem = df_keep[(df_keep['date'] < (d_nmois + timedelta(nb_jour*(i+1))))]\n",
    "    X = df_nmois_1sem[[\"recency\",\"frequency\",\"monetary_value\"]].values\n",
    "    X_scaled = std_scale.transform(X)\n",
    "    \n",
    "    kmeans2 = KMeans(n_clusters = 4, random_state = 0)\n",
    "    y_fit = kmeans2.fit_predict(X_scaled)\n",
    "    y_predict = kmeans.predict(X_scaled)\n",
    "    \n",
    "    tup_ari.append(adjusted_rand_score(y_predict,y_fit))\n",
    "\n",
    "#tup_ari"
   ]
  },
  {
   "cell_type": "code",
   "execution_count": 42,
   "id": "2da723df",
   "metadata": {},
   "outputs": [
    {
     "data": {
      "image/png": "[encoded data removed]",
      "text/plain": [
       "<Figure size 576x576 with 1 Axes>"
      ]
     },
     "metadata": {
      "needs_background": "light"
     },
     "output_type": "display_data"
    }
   ],
   "source": [
    "plt.subplots(figsize = (8,8))\n",
    "plt.title(\"ARI selon la vingt-huitaine - k = 4\")\n",
    "plt.plot(tup_ari)\n",
    "plt.xlabel('vingt-huitaine de jours')\n",
    "plt.ylabel('ARI')\n",
    "plt.axhline(y=0.9)\n",
    "plt.show()"
   ]
  },
  {
   "cell_type": "markdown",
   "id": "ec5274d2",
   "metadata": {},
   "source": [
    "### Tous les 7*5 jours"
   ]
  },
  {
   "cell_type": "code",
   "execution_count": 27,
   "id": "8fa729ce",
   "metadata": {},
   "outputs": [],
   "source": [
    "tup_ari =[]\n",
    "nb_jour = 7*5\n",
    "    \n",
    "\n",
    "for i in range(5):\n",
    "    df = df_keep[(df_keep['date'] < d_nmois + timedelta(nb_jour*i))]\n",
    "    X = df[[\"customer_zip_code_prefix\",\"review_score\",\"recency\",\"frequency\",\"monetary_value\"]].values\n",
    "    std_scale = preprocessing.StandardScaler().fit(X)\n",
    "    \n",
    "    X_scaled = std_scale.transform(X)\n",
    "    kmeans = KMeans(n_clusters = 6, random_state = 0)\n",
    "    y_fit = kmeans.fit(X_scaled)\n",
    "    \n",
    "    df_nmois_1sem = df_keep[(df_keep['date'] < (d_nmois + timedelta(nb_jour*(i+1))))]\n",
    "    X = df_nmois_1sem[[\"customer_zip_code_prefix\",\"review_score\",\"recency\",\"frequency\",\"monetary_value\"]].values\n",
    "    X_scaled = std_scale.transform(X)\n",
    "    \n",
    "    kmeans2 = KMeans(n_clusters = 6, random_state = 0)\n",
    "    y_fit = kmeans2.fit_predict(X_scaled)\n",
    "    y_predict = kmeans.predict(X_scaled)\n",
    "    \n",
    "    tup_ari.append(adjusted_rand_score(y_predict,y_fit))\n",
    "\n",
    "#tup_ari"
   ]
  },
  {
   "cell_type": "code",
   "execution_count": 28,
   "id": "b198e4ca",
   "metadata": {
    "scrolled": false
   },
   "outputs": [
    {
     "data": {
      "image/png": "[encoded data removed]",
      "text/plain": [
       "<Figure size 576x576 with 1 Axes>"
      ]
     },
     "metadata": {
      "needs_background": "light"
     },
     "output_type": "display_data"
    }
   ],
   "source": [
    "plt.subplots(figsize = (8,8))\n",
    "plt.title(\"ARI selon la trente-cinquaine de jours\")\n",
    "plt.plot(tup_ari)\n",
    "plt.xlabel('trente-cinquaine de jours')\n",
    "plt.ylabel('ARI')\n",
    "plt.axhline(y=0.9)\n",
    "plt.show()"
   ]
  },
  {
   "cell_type": "code",
   "execution_count": 43,
   "id": "01c0e9cc",
   "metadata": {},
   "outputs": [],
   "source": [
    "tup_ari =[]\n",
    "nb_jour = 7*5\n",
    "    \n",
    "\n",
    "for i in range(5):\n",
    "    df = df_keep[(df_keep['date'] < d_nmois + timedelta(nb_jour*i))]\n",
    "    X = df[[\"recency\",\"frequency\",\"monetary_value\"]].values\n",
    "    std_scale = preprocessing.StandardScaler().fit(X)\n",
    "    \n",
    "    X_scaled = std_scale.transform(X)\n",
    "    kmeans = KMeans(n_clusters = 4, random_state = 0)\n",
    "    y_fit = kmeans.fit(X_scaled)\n",
    "    \n",
    "    df_nmois_1sem = df_keep[(df_keep['date'] < (d_nmois + timedelta(nb_jour*(i+1))))]\n",
    "    X = df_nmois_1sem[[\"recency\",\"frequency\",\"monetary_value\"]].values\n",
    "    X_scaled = std_scale.transform(X)\n",
    "    \n",
    "    kmeans2 = KMeans(n_clusters = 4, random_state = 0)\n",
    "    y_fit = kmeans2.fit_predict(X_scaled)\n",
    "    y_predict = kmeans.predict(X_scaled)\n",
    "    \n",
    "    tup_ari.append(adjusted_rand_score(y_predict,y_fit))\n",
    "\n",
    "#tup_ari"
   ]
  },
  {
   "cell_type": "code",
   "execution_count": 44,
   "id": "957427d7",
   "metadata": {},
   "outputs": [
    {
     "data": {
      "image/png": "[encoded data removed]",
      "text/plain": [
       "<Figure size 576x576 with 1 Axes>"
      ]
     },
     "metadata": {
      "needs_background": "light"
     },
     "output_type": "display_data"
    }
   ],
   "source": [
    "plt.subplots(figsize = (8,8))\n",
    "plt.title(\"ARI selon la trente-cinquaine de jours\")\n",
    "plt.plot(tup_ari)\n",
    "plt.xlabel('trente-cinquaine de jours')\n",
    "plt.ylabel('ARI')\n",
    "plt.axhline(y=0.9)\n",
    "plt.show()"
   ]
  },
  {
   "cell_type": "markdown",
   "id": "e3ca41e3",
   "metadata": {},
   "source": [
    "## Expérimentation à la main"
   ]
  },
  {
   "cell_type": "markdown",
   "id": "66b9e4f8",
   "metadata": {},
   "source": [
    "### 14 jours"
   ]
  },
  {
   "cell_type": "code",
   "execution_count": 310,
   "id": "1f4ce952",
   "metadata": {},
   "outputs": [
    {
     "data": {
      "text/plain": [
       "[0.9512775026487866,\n",
       " 0.9770769320023192,\n",
       " 0.9657974585906679,\n",
       " 0.9714777314947688,\n",
       " 0.9813254634002259,\n",
       " 0.967516216773315,\n",
       " 0.9475275194275776,\n",
       " 0.9225039067019523]"
      ]
     },
     "execution_count": 310,
     "metadata": {},
     "output_type": "execute_result"
    }
   ],
   "source": [
    "tup_ari =[]\n",
    "nb_jour = 14\n",
    "    \n",
    "\n",
    "for i in range(8):\n",
    "    df = df_keep[(df_keep['date'] < d_nmois + timedelta(nb_jour*i))]\n",
    "    X = df[[\"customer_zip_code_prefix\",\"review_score\",\"recency\",\"frequency\",\"monetary_value\"]].values\n",
    "    std_scale = preprocessing.StandardScaler().fit(X)\n",
    "    X_scaled = std_scale.transform(X)\n",
    "    kmeans = KMeans(n_clusters = 6, random_state = 0)\n",
    "    y_fit = kmeans.fit(X_scaled)\n",
    "    df_nmois_1sem = df_keep[(df_keep['date'] < (d_nmois + timedelta(nb_jour*(i+1))))]\n",
    "    X = df_nmois_1sem[[\"customer_zip_code_prefix\",\"review_score\",\"recency\",\"frequency\",\"monetary_value\"]].values\n",
    "    X_scaled = std_scale.transform(X)\n",
    "    kmeans2 = KMeans(n_clusters = 6, random_state = 0)\n",
    "    y_fit = kmeans2.fit_predict(X_scaled)\n",
    "    y_predict = kmeans.predict(X_scaled)\n",
    "    tup_ari.append(adjusted_rand_score(y_predict,y_fit))\n",
    "\n",
    "tup_ari"
   ]
  },
  {
   "cell_type": "code",
   "execution_count": 311,
   "id": "fd406348",
   "metadata": {},
   "outputs": [
    {
     "data": {
      "image/png": "[encoded data removed]",
      "text/plain": [
       "<Figure size 432x288 with 1 Axes>"
      ]
     },
     "metadata": {
      "needs_background": "light"
     },
     "output_type": "display_data"
    }
   ],
   "source": [
    "plt.title(\"ARI selon le couple de semaines\")\n",
    "plt.plot(tup_ari)\n",
    "plt.xlabel('couple de semaine')\n",
    "plt.ylabel('ARI')\n",
    "plt.show()"
   ]
  },
  {
   "cell_type": "markdown",
   "id": "89daf1ef",
   "metadata": {},
   "source": [
    "## 21 jours"
   ]
  },
  {
   "cell_type": "code",
   "execution_count": 313,
   "id": "67784b83",
   "metadata": {},
   "outputs": [
    {
     "data": {
      "text/plain": [
       "[0.9416504126766354,\n",
       " 0.9571995017942626,\n",
       " 0.9611411364156097,\n",
       " 0.9673362216049628,\n",
       " 0.9399332300998366]"
      ]
     },
     "execution_count": 313,
     "metadata": {},
     "output_type": "execute_result"
    }
   ],
   "source": [
    "tup_ari =[]\n",
    "nb_jour = 21\n",
    "    \n",
    "\n",
    "for i in range(5):\n",
    "    df = df_keep[(df_keep['date'] < d_nmois + timedelta(nb_jour*i))]\n",
    "    X = df[[\"customer_zip_code_prefix\",\"review_score\",\"recency\",\"frequency\",\"monetary_value\"]].values\n",
    "    std_scale = preprocessing.StandardScaler().fit(X)\n",
    "    X_scaled = std_scale.transform(X)\n",
    "    kmeans = KMeans(n_clusters = 6, random_state = 0)\n",
    "    y_fit = kmeans.fit(X_scaled)\n",
    "    df_nmois_1sem = df_keep[(df_keep['date'] < (d_nmois + timedelta(nb_jour*(i+1))))]\n",
    "    X = df_nmois_1sem[[\"customer_zip_code_prefix\",\"review_score\",\"recency\",\"frequency\",\"monetary_value\"]].values\n",
    "    X_scaled = std_scale.transform(X)\n",
    "    kmeans2 = KMeans(n_clusters = 6, random_state = 0)\n",
    "    y_fit = kmeans2.fit_predict(X_scaled)\n",
    "    y_predict = kmeans.predict(X_scaled)\n",
    "    tup_ari.append(adjusted_rand_score(y_predict,y_fit))\n",
    "\n",
    "tup_ari"
   ]
  },
  {
   "cell_type": "code",
   "execution_count": 314,
   "id": "1f5e20c1",
   "metadata": {},
   "outputs": [
    {
     "data": {
      "image/png": "[encoded data removed]",
      "text/plain": [
       "<Figure size 432x288 with 1 Axes>"
      ]
     },
     "metadata": {
      "needs_background": "light"
     },
     "output_type": "display_data"
    }
   ],
   "source": [
    "plt.title(\"ARI selon le triplet de semaines\")\n",
    "plt.plot(tup_ari)\n",
    "plt.xlabel('triplet de semaines')\n",
    "plt.ylabel('ARI')\n",
    "plt.show()"
   ]
  },
  {
   "cell_type": "markdown",
   "id": "20c4af53",
   "metadata": {},
   "source": [
    "## 28 jours"
   ]
  },
  {
   "cell_type": "code",
   "execution_count": 315,
   "id": "8d349b0b",
   "metadata": {},
   "outputs": [
    {
     "data": {
      "text/plain": [
       "[0.9320709803859802, 0.9455116312269187, 0.9571004295405159, 0.873153096644773]"
      ]
     },
     "execution_count": 315,
     "metadata": {},
     "output_type": "execute_result"
    }
   ],
   "source": [
    "tup_ari =[]\n",
    "nb_jour = 28\n",
    "    \n",
    "\n",
    "for i in range(4):\n",
    "    df = df_keep[(df_keep['date'] < d_nmois + timedelta(nb_jour*i))]\n",
    "    X = df[[\"customer_zip_code_prefix\",\"review_score\",\"recency\",\"frequency\",\"monetary_value\"]].values\n",
    "    std_scale = preprocessing.StandardScaler().fit(X)\n",
    "    X_scaled = std_scale.transform(X)\n",
    "    kmeans = KMeans(n_clusters = 6, random_state = 0)\n",
    "    y_fit = kmeans.fit(X_scaled)\n",
    "    df_nmois_1sem = df_keep[(df_keep['date'] < (d_nmois + timedelta(nb_jour*(i+1))))]\n",
    "    X = df_nmois_1sem[[\"customer_zip_code_prefix\",\"review_score\",\"recency\",\"frequency\",\"monetary_value\"]].values\n",
    "    X_scaled = std_scale.transform(X)\n",
    "    kmeans2 = KMeans(n_clusters = 6, random_state = 0)\n",
    "    y_fit = kmeans2.fit_predict(X_scaled)\n",
    "    y_predict = kmeans.predict(X_scaled)\n",
    "    tup_ari.append(adjusted_rand_score(y_predict,y_fit))\n",
    "\n",
    "tup_ari"
   ]
  },
  {
   "cell_type": "code",
   "execution_count": 316,
   "id": "bf7aaf8c",
   "metadata": {},
   "outputs": [
    {
     "data": {
      "image/png": "[encoded data removed]",
      "text/plain": [
       "<Figure size 432x288 with 1 Axes>"
      ]
     },
     "metadata": {
      "needs_background": "light"
     },
     "output_type": "display_data"
    }
   ],
   "source": [
    "plt.title(\"ARI selon le mois\")\n",
    "plt.plot(tup_ari)\n",
    "plt.xlabel('mois')\n",
    "plt.ylabel('ARI')\n",
    "plt.show()"
   ]
  },
  {
   "cell_type": "markdown",
   "id": "5457028d",
   "metadata": {},
   "source": [
    "## 35 jours"
   ]
  },
  {
   "cell_type": "code",
   "execution_count": 317,
   "id": "4e38e78e",
   "metadata": {},
   "outputs": [
    {
     "data": {
      "text/plain": [
       "[0.9242997698966327, 0.9397397721069253, 0.9128984467845211]"
      ]
     },
     "execution_count": 317,
     "metadata": {},
     "output_type": "execute_result"
    }
   ],
   "source": [
    "tup_ari =[]\n",
    "nb_jour = 35\n",
    "    \n",
    "\n",
    "for i in range(3):\n",
    "    df = df_keep[(df_keep['date'] < d_nmois + timedelta(nb_jour*i))]\n",
    "    X = df[[\"customer_zip_code_prefix\",\"review_score\",\"recency\",\"frequency\",\"monetary_value\"]].values\n",
    "    std_scale = preprocessing.StandardScaler().fit(X)\n",
    "    X_scaled = std_scale.transform(X)\n",
    "    kmeans = KMeans(n_clusters = 6, random_state = 0)\n",
    "    y_fit = kmeans.fit(X_scaled)\n",
    "    df_nmois_1sem = df_keep[(df_keep['date'] < (d_nmois + timedelta(nb_jour*(i+1))))]\n",
    "    X = df_nmois_1sem[[\"customer_zip_code_prefix\",\"review_score\",\"recency\",\"frequency\",\"monetary_value\"]].values\n",
    "    X_scaled = std_scale.transform(X)\n",
    "    kmeans2 = KMeans(n_clusters = 6, random_state = 0)\n",
    "    y_fit = kmeans2.fit_predict(X_scaled)\n",
    "    y_predict = kmeans.predict(X_scaled)\n",
    "    tup_ari.append(adjusted_rand_score(y_predict,y_fit))\n",
    "\n",
    "tup_ari"
   ]
  },
  {
   "cell_type": "code",
   "execution_count": null,
   "id": "12a9e680",
   "metadata": {},
   "outputs": [],
   "source": [
    "plt.title(\"ARI selon le 35\")\n",
    "plt.plot(tup_ari)\n",
    "plt.xlabel('mois')\n",
    "plt.ylabel('ARI')\n",
    "plt.show()"
   ]
  },
  {
   "cell_type": "code",
   "execution_count": 205,
   "id": "9df38daf",
   "metadata": {},
   "outputs": [],
   "source": [
    "X = df[[\"customer_zip_code_prefix\",\"review_score\",\"recency\",\"frequency\",\"monetary_value\"]].values\n",
    "std_scale = preprocessing.StandardScaler().fit(X)\n",
    "X_scaled = std_scale.transform(X)\n",
    "kmeans = KMeans(n_clusters = 4, random_state = 0)\n",
    "y_fit = kmeans.fit(X_scaled)"
   ]
  },
  {
   "cell_type": "code",
   "execution_count": 208,
   "id": "25500d08",
   "metadata": {},
   "outputs": [],
   "source": [
    "df_nmois_1sem = df_keep[(df_keep['date'] > d_nmois) & (df_keep['date'] < (d_nmois + timedelta(4)))]"
   ]
  },
  {
   "cell_type": "code",
   "execution_count": 209,
   "id": "131cdfea",
   "metadata": {},
   "outputs": [
    {
     "data": {
      "text/html": [
       "<div>\n",
       "<style scoped>\n",
       "    .dataframe tbody tr th:only-of-type {\n",
       "        vertical-align: middle;\n",
       "    }\n",
       "\n",
       "    .dataframe tbody tr th {\n",
       "        vertical-align: top;\n",
       "    }\n",
       "\n",
       "    .dataframe thead th {\n",
       "        text-align: right;\n",
       "    }\n",
       "</style>\n",
       "<table border=\"1\" class=\"dataframe\">\n",
       "  <thead>\n",
       "    <tr style=\"text-align: right;\">\n",
       "      <th></th>\n",
       "      <th>date</th>\n",
       "      <th>customer_zip_code_prefix</th>\n",
       "      <th>review_score</th>\n",
       "      <th>recency</th>\n",
       "      <th>frequency</th>\n",
       "      <th>monetary_value</th>\n",
       "    </tr>\n",
       "  </thead>\n",
       "  <tbody>\n",
       "    <tr>\n",
       "      <th>61</th>\n",
       "      <td>2018-05-08 23:25:12</td>\n",
       "      <td>37950</td>\n",
       "      <td>5</td>\n",
       "      <td>118</td>\n",
       "      <td>1</td>\n",
       "      <td>99.9</td>\n",
       "    </tr>\n",
       "    <tr>\n",
       "      <th>85</th>\n",
       "      <td>2018-05-08 17:10:08</td>\n",
       "      <td>79825</td>\n",
       "      <td>5</td>\n",
       "      <td>118</td>\n",
       "      <td>1</td>\n",
       "      <td>99.9</td>\n",
       "    </tr>\n",
       "    <tr>\n",
       "      <th>352</th>\n",
       "      <td>2018-05-09 15:39:10</td>\n",
       "      <td>9895</td>\n",
       "      <td>4</td>\n",
       "      <td>117</td>\n",
       "      <td>1</td>\n",
       "      <td>84.0</td>\n",
       "    </tr>\n",
       "    <tr>\n",
       "      <th>467</th>\n",
       "      <td>2018-05-09 17:41:08</td>\n",
       "      <td>8010</td>\n",
       "      <td>5</td>\n",
       "      <td>117</td>\n",
       "      <td>1</td>\n",
       "      <td>170.9</td>\n",
       "    </tr>\n",
       "    <tr>\n",
       "      <th>610</th>\n",
       "      <td>2018-05-09 22:42:30</td>\n",
       "      <td>4855</td>\n",
       "      <td>1</td>\n",
       "      <td>117</td>\n",
       "      <td>1</td>\n",
       "      <td>84.0</td>\n",
       "    </tr>\n",
       "  </tbody>\n",
       "</table>\n",
       "</div>"
      ],
      "text/plain": [
       "                   date  customer_zip_code_prefix  review_score  recency  \\\n",
       "61  2018-05-08 23:25:12                     37950             5      118   \n",
       "85  2018-05-08 17:10:08                     79825             5      118   \n",
       "352 2018-05-09 15:39:10                      9895             4      117   \n",
       "467 2018-05-09 17:41:08                      8010             5      117   \n",
       "610 2018-05-09 22:42:30                      4855             1      117   \n",
       "\n",
       "     frequency  monetary_value  \n",
       "61           1            99.9  \n",
       "85           1            99.9  \n",
       "352          1            84.0  \n",
       "467          1           170.9  \n",
       "610          1            84.0  "
      ]
     },
     "execution_count": 209,
     "metadata": {},
     "output_type": "execute_result"
    }
   ],
   "source": [
    "df_nmois_1sem.head()"
   ]
  },
  {
   "cell_type": "code",
   "execution_count": 210,
   "id": "e0f61046",
   "metadata": {},
   "outputs": [],
   "source": [
    "X = df_nmois_1sem[[\"customer_zip_code_prefix\",\"review_score\",\"recency\",\"frequency\",\"monetary_value\"]].values\n",
    "#std_scale = preprocessing.StandardScaler().fit(X)\n",
    "X_scaled = std_scale.transform(X)\n",
    "kmeans2 = KMeans(n_clusters = 4, random_state = 0)\n",
    "y_fit = kmeans2.fit_predict(X_scaled)"
   ]
  },
  {
   "cell_type": "code",
   "execution_count": 211,
   "id": "854f5ca0",
   "metadata": {},
   "outputs": [],
   "source": [
    "y_predict = kmeans.predict(X_scaled)"
   ]
  },
  {
   "cell_type": "code",
   "execution_count": 212,
   "id": "218a55e2",
   "metadata": {
    "scrolled": false
   },
   "outputs": [
    {
     "data": {
      "text/plain": [
       "0.9564605304824348"
      ]
     },
     "execution_count": 212,
     "metadata": {},
     "output_type": "execute_result"
    }
   ],
   "source": [
    "adjusted_rand_score(y_predict,y_fit)"
   ]
  },
  {
   "cell_type": "code",
   "execution_count": null,
   "id": "fa83df0a",
   "metadata": {},
   "outputs": [],
   "source": []
  },
  {
   "cell_type": "code",
   "execution_count": null,
   "id": "51e8baec",
   "metadata": {},
   "outputs": [],
   "source": []
  },
  {
   "cell_type": "code",
   "execution_count": null,
   "id": "494bf303",
   "metadata": {},
   "outputs": [],
   "source": []
  },
  {
   "cell_type": "code",
   "execution_count": null,
   "id": "cc6a120e",
   "metadata": {},
   "outputs": [],
   "source": []
  },
  {
   "cell_type": "code",
   "execution_count": null,
   "id": "627c9a5a",
   "metadata": {},
   "outputs": [],
   "source": []
  }
 ],
 "metadata": {
  "kernelspec": {
   "display_name": "Python 3 (ipykernel)",
   "language": "python",
   "name": "python3"
  },
  "language_info": {
   "codemirror_mode": {
    "name": "ipython",
    "version": 3
   },
   "file_extension": ".py",
   "mimetype": "text/x-python",
   "name": "python",
   "nbconvert_exporter": "python",
   "pygments_lexer": "ipython3",
   "version": "3.8.10"
  }
 },
 "nbformat": 4,
 "nbformat_minor": 5
}
